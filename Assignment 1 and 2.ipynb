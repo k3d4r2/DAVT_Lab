{
 "cells": [
  {
   "cell_type": "code",
   "execution_count": 1,
   "id": "1d5d2ca7",
   "metadata": {},
   "outputs": [
    {
     "ename": "ModuleNotFoundError",
     "evalue": "No module named 'matplotlib'",
     "output_type": "error",
     "traceback": [
      "\u001b[1;31m---------------------------------------------------------------------------\u001b[0m",
      "\u001b[1;31mModuleNotFoundError\u001b[0m                       Traceback (most recent call last)",
      "Cell \u001b[1;32mIn[1], line 3\u001b[0m\n\u001b[0;32m      1\u001b[0m \u001b[38;5;28;01mimport\u001b[39;00m \u001b[38;5;21;01mpandas\u001b[39;00m \u001b[38;5;28;01mas\u001b[39;00m \u001b[38;5;21;01mpd\u001b[39;00m\n\u001b[0;32m      2\u001b[0m \u001b[38;5;28;01mimport\u001b[39;00m \u001b[38;5;21;01mnumpy\u001b[39;00m \u001b[38;5;28;01mas\u001b[39;00m \u001b[38;5;21;01mnp\u001b[39;00m\n\u001b[1;32m----> 3\u001b[0m \u001b[38;5;28;01mimport\u001b[39;00m \u001b[38;5;21;01mmatplotlib\u001b[39;00m\u001b[38;5;21;01m.\u001b[39;00m\u001b[38;5;21;01mpyplot\u001b[39;00m \u001b[38;5;28;01mas\u001b[39;00m \u001b[38;5;21;01mplt\u001b[39;00m\n\u001b[0;32m      4\u001b[0m get_ipython()\u001b[38;5;241m.\u001b[39mrun_line_magic(\u001b[38;5;124m'\u001b[39m\u001b[38;5;124mmatplotlib\u001b[39m\u001b[38;5;124m'\u001b[39m, \u001b[38;5;124m'\u001b[39m\u001b[38;5;124minline\u001b[39m\u001b[38;5;124m'\u001b[39m)\n",
      "\u001b[1;31mModuleNotFoundError\u001b[0m: No module named 'matplotlib'"
     ]
    }
   ],
   "source": [
    "import pandas as pd\n",
    "import numpy as np\n",
    "import matplotlib.pyplot as plt\n",
    "%matplotlib inline"
   ]
  },
  {
   "cell_type": "code",
   "execution_count": null,
   "id": "5ccaf760",
   "metadata": {},
   "outputs": [],
   "source": [
    "df = pd.read_csv(\"zomato.csv\",encoding=\"latin-1\")\n",
    "df"
   ]
  },
  {
   "cell_type": "code",
   "execution_count": null,
   "id": "2e3c96ff",
   "metadata": {},
   "outputs": [],
   "source": [
    "df.shape"
   ]
  },
  {
   "cell_type": "code",
   "execution_count": null,
   "id": "577ba2f4",
   "metadata": {},
   "outputs": [],
   "source": [
    "df.columns\n"
   ]
  },
  {
   "cell_type": "code",
   "execution_count": null,
   "id": "964c05a3",
   "metadata": {},
   "outputs": [],
   "source": [
    "df2 = pd.read_excel(\"Country-Code.xlsx\")\n",
    "df2"
   ]
  },
  {
   "cell_type": "code",
   "execution_count": null,
   "id": "b8bba6a3",
   "metadata": {},
   "outputs": [],
   "source": [
    "df3 = pd.merge(df,df2,on='Country Code',how='left')\n"
   ]
  },
  {
   "cell_type": "code",
   "execution_count": null,
   "id": "e96ff8a5",
   "metadata": {},
   "outputs": [],
   "source": [
    "df3.Country.value_counts()\n"
   ]
  },
  {
   "cell_type": "code",
   "execution_count": null,
   "id": "0c8daa7d",
   "metadata": {},
   "outputs": [],
   "source": [
    "df2.shape\n"
   ]
  },
  {
   "cell_type": "code",
   "execution_count": null,
   "id": "12d73b8c",
   "metadata": {},
   "outputs": [],
   "source": [
    "df3.shape\n"
   ]
  },
  {
   "cell_type": "code",
   "execution_count": null,
   "id": "d4c50950",
   "metadata": {},
   "outputs": [],
   "source": [
    "country_names = df3.Country.value_counts().index"
   ]
  },
  {
   "cell_type": "code",
   "execution_count": null,
   "id": "25cf8e7b",
   "metadata": {},
   "outputs": [],
   "source": [
    "country_values = df3.Country.value_counts().values"
   ]
  },
  {
   "cell_type": "code",
   "execution_count": null,
   "id": "3ee48750",
   "metadata": {},
   "outputs": [],
   "source": [
    "plt.pie(country_values[:3], labels=country_names[:3],autopct=\"%1.2f%%\")"
   ]
  },
  {
   "cell_type": "code",
   "execution_count": null,
   "id": "c938db82",
   "metadata": {},
   "outputs": [],
   "source": [
    "df.isnull().sum()"
   ]
  },
  {
   "cell_type": "code",
   "execution_count": null,
   "id": "42fcdabe",
   "metadata": {},
   "outputs": [],
   "source": [
    "import seaborn as sns\n"
   ]
  },
  {
   "cell_type": "code",
   "execution_count": null,
   "id": "5dc9c92b",
   "metadata": {},
   "outputs": [],
   "source": [
    "sns.heatmap(df.isnull(),yticklabels='false')"
   ]
  },
  {
   "cell_type": "code",
   "execution_count": null,
   "id": "8662767d",
   "metadata": {},
   "outputs": [],
   "source": [
    "plt.rcParams['figure.figsize'] = (12,6)\n",
    "\n",
    "sns.heatmap(df.isnull(),yticklabels='false')"
   ]
  },
  {
   "cell_type": "markdown",
   "id": "6638478c",
   "metadata": {},
   "source": [
    "## Assignment 2"
   ]
  },
  {
   "cell_type": "code",
   "execution_count": null,
   "id": "6cbc1312",
   "metadata": {},
   "outputs": [],
   "source": [
    "df3.columns\n"
   ]
  },
  {
   "cell_type": "code",
   "execution_count": null,
   "id": "a377481e",
   "metadata": {},
   "outputs": [],
   "source": [
    "\n",
    "ratings = df3.groupby(['Aggregate rating', 'Rating color', 'Rating text']).size().reset_index().rename(columns={0:'rating count'})\n",
    "ratings"
   ]
  },
  {
   "cell_type": "code",
   "execution_count": null,
   "id": "07fcd592",
   "metadata": {},
   "outputs": [],
   "source": [
    "sns.barplot(x='Aggregate rating',y='rating count',data=ratings)"
   ]
  },
  {
   "cell_type": "markdown",
   "id": "a5ee454f",
   "metadata": {},
   "source": []
  },
  {
   "cell_type": "markdown",
   "id": "4cbca8e2",
   "metadata": {},
   "source": [
    "## Observations :\n",
    "\n",
    "### Countries which have given 0 is very high : 2000+\n",
    "#### Poor Rating = 1.8 - 2.4\n",
    "#### Average Rating = 2.5 - 3.4\n",
    "#### Very good Rating = 3.5 - 4.4\n",
    "#### Excellant Rating = 4.5 - 4.9\n",
    "\n"
   ]
  },
  {
   "cell_type": "code",
   "execution_count": null,
   "id": "1c6d937e",
   "metadata": {},
   "outputs": [],
   "source": [
    "sns.countplot(x='Rating color', data=ratings)"
   ]
  },
  {
   "cell_type": "markdown",
   "id": "fe0f7441",
   "metadata": {},
   "source": [
    "## Observations :\n",
    "### Most of the people have given average rating"
   ]
  },
  {
   "cell_type": "code",
   "execution_count": null,
   "id": "986c5ba1",
   "metadata": {},
   "outputs": [],
   "source": [
    "df3['Rating color'] == 'White'"
   ]
  },
  {
   "cell_type": "markdown",
   "id": "f4b0d4df",
   "metadata": {},
   "source": [
    "### Which countries have given white rating , solve it using 2 pyplots"
   ]
  },
  {
   "cell_type": "code",
   "execution_count": null,
   "id": "0cf5b6f0",
   "metadata": {},
   "outputs": [],
   "source": [
    "df3.columns\n"
   ]
  },
  {
   "cell_type": "code",
   "execution_count": null,
   "id": "1577da0e",
   "metadata": {},
   "outputs": [],
   "source": [
    "ratings\n"
   ]
  },
  {
   "cell_type": "code",
   "execution_count": null,
   "id": "458df9e5",
   "metadata": {},
   "outputs": [],
   "source": [
    "df3[df3['Rating color']=='White'].groupby('Country').size().reset_index()"
   ]
  },
  {
   "cell_type": "code",
   "execution_count": null,
   "id": "ad739973",
   "metadata": {},
   "outputs": [],
   "source": [
    "df3[df3['Rating color']=='Red'].groupby('Aggregate rating').size().reset_index()"
   ]
  },
  {
   "cell_type": "markdown",
   "id": "f6f70c7c",
   "metadata": {},
   "source": [
    "### Find out the countries which give online deliveries: "
   ]
  },
  {
   "cell_type": "code",
   "execution_count": null,
   "id": "05574be6",
   "metadata": {},
   "outputs": [],
   "source": [
    "df3"
   ]
  },
  {
   "cell_type": "code",
   "execution_count": null,
   "id": "08a07a15",
   "metadata": {},
   "outputs": [],
   "source": [
    "df3[df3['Has Online delivery']=='Yes'].groupby('Country').size().reset_index().rename(columns={0:'Number of restos which give online delivery'})"
   ]
  },
  {
   "cell_type": "markdown",
   "id": "24ca0f5d",
   "metadata": {},
   "source": [
    "### Write down observations as a data Scientist\n"
   ]
  },
  {
   "cell_type": "markdown",
   "id": "1c63fbf9",
   "metadata": {},
   "source": [
    "![Alt Text](https://media.giphy.com/media/vFKqnCdLPNOKc/giphy.gif)"
   ]
  },
  {
   "cell_type": "code",
   "execution_count": null,
   "id": "67bca86c",
   "metadata": {},
   "outputs": [],
   "source": [
    "df3['Currency']"
   ]
  },
  {
   "cell_type": "code",
   "execution_count": null,
   "id": "174c55d4",
   "metadata": {},
   "outputs": [],
   "source": [
    "curr = df3.groupby(['Currency', 'Country']).size().reset_index()\n",
    "curr"
   ]
  },
  {
   "cell_type": "markdown",
   "id": "2c62ce74",
   "metadata": {},
   "source": []
  },
  {
   "cell_type": "code",
   "execution_count": null,
   "id": "4a2755e9",
   "metadata": {},
   "outputs": [],
   "source": [
    "df3.City.value_counts().index\n",
    "\n"
   ]
  },
  {
   "cell_type": "markdown",
   "id": "76e5bf81",
   "metadata": {},
   "source": [
    "![Alt text](https://media.giphy.com/media/AFdcYElkoNAUE/giphy.gif)"
   ]
  },
  {
   "cell_type": "code",
   "execution_count": null,
   "id": "0b412f39",
   "metadata": {},
   "outputs": [],
   "source": [
    "city_values = df3.City.value_counts().values\n",
    "city_labels = df3.City.value_counts().index"
   ]
  },
  {
   "cell_type": "code",
   "execution_count": null,
   "id": "2f8b6b47",
   "metadata": {},
   "outputs": [],
   "source": [
    "plt.pie(city_values[:5],labels=city_labels[:5],autopct='%.2f')"
   ]
  },
  {
   "cell_type": "markdown",
   "id": "de7e46aa",
   "metadata": {},
   "source": [
    "![Alt text](https://media.giphy.com/media/slVWEctHZKvWU/giphy.gif)"
   ]
  },
  {
   "cell_type": "markdown",
   "id": "20b39026",
   "metadata": {},
   "source": []
  },
  {
   "cell_type": "code",
   "execution_count": null,
   "id": "47aa5d18",
   "metadata": {},
   "outputs": [],
   "source": []
  }
 ],
 "metadata": {
  "kernelspec": {
   "display_name": "Python 3 (ipykernel)",
   "language": "python",
   "name": "python3"
  },
  "language_info": {
   "codemirror_mode": {
    "name": "ipython",
    "version": 3
   },
   "file_extension": ".py",
   "mimetype": "text/x-python",
   "name": "python",
   "nbconvert_exporter": "python",
   "pygments_lexer": "ipython3",
   "version": "3.11.2"
  }
 },
 "nbformat": 4,
 "nbformat_minor": 5
}
